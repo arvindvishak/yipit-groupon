{
 "cells": [
  {
   "cell_type": "markdown",
   "metadata": {},
   "source": [
    "## Prompt\n",
    "\n",
    "At YipitData, we collect and analyze unique data sets that allow us to develop detailed insights about many companies. Through these insights we provide competitive intelligence and market research that allows our clients, to better understand the markets in which they are competing, and their own performance therein.\n",
    "\n",
    "\n",
    "For the purpose of this exercise, consider that one of the companies we cover is Groupon. For Groupon, the main metric we track is called gross billings. Every quarter, Groupon reports gross billings in their financial statements. We use our proprietary data to estimate gross billings across different segments, in order for Groupon’s competitors to benchmark their own performance as well as for strategic insights.\n",
    "Pretending it is January 2014, before Groupon reports 4Q13 earnings, your goal is to use the attached data file to estimate Groupon’s 4Q13 North America gross billings by segment (Local, Travel, and Goods). Additionally, please describe the performance of each segment. The data is based on real data we collected for Groupon in 2013, and you will need to overcome real challenges we faced back then in order to arrive at your estimate. Remember, we are pretending it is January 2014, so you can’t use any information that is after January 2014.\n"
   ]
  },
  {
   "cell_type": "markdown",
   "metadata": {},
   "source": [
    "## Background on the data available:\n",
    "* This dataset is an estimate of gross billings and units sold for each\n",
    "deal that was active in Groupon's North America segment in Q4 2013.\n",
    "* Each row represents a Groupon deal that was active for some or all of Q4 2013. For\n",
    "each row we've provided data on units sold during Q4 2013, gross billings during Q4 2013, the date that the deal started, the URL of the deal page, the product segment of the deal (Local, Travel, or Goods), and the inventory type of the good (first-party means Groupon owns the inventory).\n",
    "* Groupon offers thousands of deals on its platform, with new ones starting each day. Some deals stay active for weeks, months, or even years, while other deals are only active for a day or a few days. In the data file, we include the start date of each deal that was active in Q4 2013. Remember, these dates are not necessarily the date the billings occurred, but the date that the deal launched. Since deals can be active for many days, or even weeks or months, these deals can have billings on many days, not just the date that the deal started.\n",
    "* This data is collected by finding all deals on Groupon's platform, and then tracking the quantity sold and price information that is available on each deal webpage. Since we have the price and quantity for each deal, we can generate companywide estimates of gross billings.\n",
    "* However, our system that finds the deals on the Groupon North America website and adds them to our database broke from October 20 to October 30 2013 (inclusive) for the Local segment, so we did not add any Local segment deals that started between those dates to our database (you'll notice this in the dataset). This means we missed all billings from deals that started during this period, even if they remained active after the period. In other words, our dataset includes zero Local deals that started from October 20 to October 30, 2013 inclusive, and 100% of all other Local deals that were active in Q4 2013. You'll need to adjust the data to deal with this outage as you make an estimate for North America Q4 2013 billings bysegment.\n",
    "* Note that purchasers of Groupon deals can also return deals if they decide they don’t want to use them. The data we present in the spreadsheet is net of returns. For example, let’s say a row of data has \\\\$100 in billings. This means there were \\\\$100 gross billings for this deal in Q4 2013, which could mean there was \\\\$100 of sales and \\\\$0 of returns, it could mean \\\\$110 of sales and \\\\$10 of returns, it could mean \\\\$500 of sales and \\\\$400 of returns. We don’t breakout the data by purchases and returns, we just provide the net number, which is called “gross billings”. This is in line with how Groupon reports Gross billings in their financial statements. Note that some rows in our data have negative gross billings. This means that these deals had more returns than purchases in Q4 2013.\n",
    "* You'll notice that units sold are often in decimals. This is because we are employing estimation techniques behind the scenes - you can ignore the methodology behind these estimations and just take the data as given.\n",
    "* There is a tab in the Q4 2013 North America Groupon Data XLSX file called \"Historical Data,\" which shows you YipitData estimates from previous quarters. This tab may be helpful in understanding to what extent YipitData estimates can accurately estimate Groupon reported gross billings, which is a number that investors care about. Although we broke out the historical figures on a monthly basis, the raw data we provided for Q4 2013 does not break gross billings out by month. Additionally, we do not provide the raw data that was used to generate the historical estimates, only the Q4 2013 raw data. \n",
    "*  Data is not always as clean as you would hope. As such, there may be inaccuracies in\n",
    "the data in addition to the ones described above. If you find any, you should determine their impact and adjust accordingly if you think an adjustment is warranted. As a reminder, please describe any adjustments you made and the rationale for those adjustments."
   ]
  },
  {
   "cell_type": "markdown",
   "metadata": {},
   "source": [
    "# Analysis "
   ]
  },
  {
   "cell_type": "code",
   "execution_count": null,
   "metadata": {},
   "outputs": [],
   "source": [
    "# Setting up the required libraries and desired display settings\n",
    "import pandas as pd\n",
    "import numpy as np\n",
    "import matplotlib.pyplot as plt\n",
    "import seaborn as sns\n",
    "import scipy as scipy\n",
    "sns.set()\n",
    "pd.options.display.max_rows = 100\n",
    "pd.options.display.max_columns = 10\n",
    "pd.options.display.float_format = '{:.2f}'.format"
   ]
  },
  {
   "cell_type": "markdown",
   "metadata": {},
   "source": [
    "## Exploratory Data Analysis"
   ]
  },
  {
   "cell_type": "code",
   "execution_count": null,
   "metadata": {},
   "outputs": [],
   "source": [
    "q4_data = pd.read_csv('yipit_groupon_q4_raw_data.csv') # reading in the YipitData Q4 Groupon Data"
   ]
  },
  {
   "cell_type": "code",
   "execution_count": null,
   "metadata": {
    "scrolled": true
   },
   "outputs": [],
   "source": [
    "# previewing the Q4 data\n",
    "q4_data.head(10)"
   ]
  },
  {
   "cell_type": "code",
   "execution_count": null,
   "metadata": {},
   "outputs": [],
   "source": [
    "q4_data.shape"
   ]
  },
  {
   "cell_type": "code",
   "execution_count": null,
   "metadata": {},
   "outputs": [],
   "source": [
    "q4_data.dtypes # listing data types to ensure that all types are of an expected type"
   ]
  },
  {
   "cell_type": "code",
   "execution_count": null,
   "metadata": {},
   "outputs": [],
   "source": [
    "# Convert the Start Date to YYYY-MM-DD format since it is currently stored as a string\n",
    "q4_data['Start Date'] = pd.to_datetime(q4_data['Start Date'])"
   ]
  },
  {
   "cell_type": "code",
   "execution_count": null,
   "metadata": {},
   "outputs": [],
   "source": [
    "# Checking for Duplicate Entries for deals in the Q4 data\n",
    "q4_data[q4_data.duplicated(subset=['Deal ID', 'Start Date'])]"
   ]
  },
  {
   "cell_type": "code",
   "execution_count": null,
   "metadata": {
    "scrolled": true
   },
   "outputs": [],
   "source": [
    "# Checking for the presence of missing values in the available data\n",
    "# I mention available data specifically, because it's known knowledge that local segment data\n",
    "# is unavailable for Start Dates ranging from October 20 to October 30, 2013.\n",
    "q4_data.isna().sum()"
   ]
  },
  {
   "cell_type": "markdown",
   "metadata": {},
   "source": [
    "# Splitting the Data by Segment"
   ]
  },
  {
   "cell_type": "code",
   "execution_count": null,
   "metadata": {},
   "outputs": [],
   "source": [
    "# Splitting the data into data frames separated by the Groupon Business Segment\n",
    "q4_local_data = q4_data[q4_data['Segment'] == 'Local']\n",
    "q4_goods_data = q4_data[q4_data['Segment'] == 'Goods']\n",
    "q4_travel_data = q4_data[q4_data['Segment'] == 'Travel']"
   ]
  },
  {
   "cell_type": "markdown",
   "metadata": {},
   "source": [
    "## Computing Goods Segment 4Q13 Metrics"
   ]
  },
  {
   "cell_type": "code",
   "execution_count": null,
   "metadata": {
    "scrolled": true
   },
   "outputs": [],
   "source": [
    "# Previewing Goods Data\n",
    "q4_goods_data.head(5)"
   ]
  },
  {
   "cell_type": "code",
   "execution_count": null,
   "metadata": {},
   "outputs": [],
   "source": [
    "# resetting index and cleaning up excess index column\n",
    "q4_goods_data.reset_index(inplace=True, drop=True)"
   ]
  },
  {
   "cell_type": "code",
   "execution_count": null,
   "metadata": {},
   "outputs": [],
   "source": [
    "# Checking the size of the frame\n",
    "q4_goods_data.shape"
   ]
  },
  {
   "cell_type": "code",
   "execution_count": null,
   "metadata": {},
   "outputs": [],
   "source": [
    "# Checking for missing values, if any, in the Goods 4Q13 data\n",
    "print(\"Missing Values in Goods Data\")\n",
    "q4_goods_data.isna().sum()"
   ]
  },
  {
   "cell_type": "code",
   "execution_count": null,
   "metadata": {},
   "outputs": [],
   "source": [
    "# Summary Statistics about Goods Data\n",
    "print(f\"Most Popular Goods Deal\")\n",
    "print(f\"Deal ID: {q4_goods_data.loc[q4_goods_data['Units Sold'].idxmax()]['Deal ID']}\")\n",
    "print(f\"Number of Units Sold: {q4_goods_data.loc[q4_goods_data['Units Sold'].idxmax()]['Units Sold']}\")\n",
    "print(f\"Billings: ${q4_goods_data.loc[q4_goods_data['Billings'].idxmax()]['Billings']}\")\n",
    "print(f\"Start Date: {q4_goods_data.loc[q4_goods_data['Units Sold'].idxmax()]['Start Date']}\")\n",
    "print(f\"Inventory Type: {q4_goods_data.loc[q4_goods_data['Units Sold'].idxmax()]['Inventory Type']}\")\n"
   ]
  },
  {
   "cell_type": "code",
   "execution_count": null,
   "metadata": {},
   "outputs": [],
   "source": [
    "# More summary statistics about Goods Data, specifically filtered to 4Q13 data\n",
    "print(\"Summary of Goods Deals active in 4Q13\")\n",
    "print(f\"Total Deals active in 4Q13: {q4_goods_data['Deal ID'].count()}\")\n",
    "print(f\"Total Units Sold (Estimated): {q4_goods_data['Units Sold'].sum():.2f} units\")\n",
    "print(f\"Total Billings (Estimated): ${q4_goods_data['Billings'].sum()/1e6:.2f} million\")\n",
    "print(f\"Inventory Type Breakdown for Goods deals: \\n{q4_goods_data['Inventory Type'].value_counts()}\")\n",
    "print(\"******************************\")\n",
    "print(f\"Number of deals to go active after start of 4Q13: {q4_goods_data[q4_goods_data['Start Date'] > '2013-09-30']['Deal ID'].count()}\")\n",
    "print(f\"Billings from deals going live after start of 4Q13: {q4_goods_data[q4_goods_data['Start Date'] > '2013-09-30']['Billings'].sum()/1e6:.2f} million\")\n",
    "print(\"******************************\")\n",
    "print(f\"Number of deals to go active before start of 4Q13:{q4_goods_data[q4_goods_data['Start Date'] < '2013-10-01']['Deal ID'].count()}\")\n",
    "print(f\"Billings from deals going live before start of 4Q13: {q4_goods_data[q4_goods_data['Start Date'] < '2013-10-01']['Billings'].sum()/1e6:.2f} million\")\n",
    "\n"
   ]
  },
  {
   "cell_type": "code",
   "execution_count": null,
   "metadata": {},
   "outputs": [],
   "source": [
    "# Aggregating Goods Data by Deal Start Date to get a better graphical representation\n",
    "q4_goods_agg = q4_goods_data.groupby(['Start Date']).sum()"
   ]
  },
  {
   "cell_type": "code",
   "execution_count": null,
   "metadata": {},
   "outputs": [],
   "source": [
    "q4_goods_agg.head(10)"
   ]
  },
  {
   "cell_type": "code",
   "execution_count": null,
   "metadata": {},
   "outputs": [],
   "source": [
    "# Resetting index\n",
    "q4_goods_agg.reset_index(inplace=True)"
   ]
  },
  {
   "cell_type": "code",
   "execution_count": null,
   "metadata": {},
   "outputs": [],
   "source": [
    "# Converting the Billings data to be expressed in millions since y-axis of plot would look absurd otherwise\n",
    "q4_goods_agg['Billings'] = q4_goods_agg['Billings']/1e6"
   ]
  },
  {
   "cell_type": "code",
   "execution_count": null,
   "metadata": {},
   "outputs": [],
   "source": [
    "# Setting up seaborn plot to represent estimated 4Q13 billings for the Goods Segment\n",
    "sns.set(rc = {'figure.figsize':(15,8)})\n",
    "plot_1 = sns.lineplot(data=q4_goods_agg[q4_goods_agg['Start Date'] > '2013-09-30'], x=\"Start Date\", y=\"Billings\", marker='o')\n",
    "plot_1.set_xlabel(\"Deal Go-Live Date\", fontsize = 15)\n",
    "plot_1.set_ylabel(\"Billings in millions of dollars\", fontsize=15)\n",
    "plot_1.set_title(\"Groupon: Estimated Billings in Millions - Goods Segment, 4Q13\", fontsize=18)"
   ]
  },
  {
   "cell_type": "markdown",
   "metadata": {},
   "source": [
    "## Computing Travel Segment 4Q13 Metrics"
   ]
  },
  {
   "cell_type": "code",
   "execution_count": null,
   "metadata": {
    "scrolled": true
   },
   "outputs": [],
   "source": [
    "# Previewing 4Q13 Travel Segment Data\n",
    "q4_travel_data.head(5)"
   ]
  },
  {
   "cell_type": "code",
   "execution_count": null,
   "metadata": {},
   "outputs": [],
   "source": [
    "# resetting index and cleaning up residual index column\n",
    "q4_travel_data.reset_index(inplace=True, drop=True)"
   ]
  },
  {
   "cell_type": "code",
   "execution_count": null,
   "metadata": {},
   "outputs": [],
   "source": [
    "# Checking the size of the data frame\n",
    "q4_travel_data.shape"
   ]
  },
  {
   "cell_type": "code",
   "execution_count": null,
   "metadata": {},
   "outputs": [],
   "source": [
    "# Checking for missing values, if any, in the travel segment data\n",
    "print(\"Missing Values in Travel Data\")\n",
    "q4_travel_data.isna().sum()"
   ]
  },
  {
   "cell_type": "code",
   "execution_count": null,
   "metadata": {},
   "outputs": [],
   "source": [
    "# Summary Statistics about the Travel Segment\n",
    "print(f\"Most Popular Travel Deal\")\n",
    "print(f\"Deal ID: {q4_travel_data.loc[q4_travel_data['Units Sold'].idxmax()]['Deal ID']}\")\n",
    "print(f\"Number of Units Sold: {q4_travel_data.loc[q4_travel_data['Units Sold'].idxmax()]['Units Sold']}\")\n",
    "print(f\"Billings: ${q4_travel_data.loc[q4_travel_data['Units Sold'].idxmax()]['Billings']}\")\n",
    "print(f\"Start Date: {q4_travel_data.loc[q4_travel_data['Units Sold'].idxmax()]['Start Date']}\")\n",
    "print(f\"Inventory Type: {q4_travel_data.loc[q4_travel_data['Units Sold'].idxmax()]['Inventory Type']}\")"
   ]
  },
  {
   "cell_type": "code",
   "execution_count": null,
   "metadata": {},
   "outputs": [],
   "source": [
    "print(\"Summary of Travel Deals active in 4Q13\")\n",
    "print(f\"Total Deals active in 4Q13: {q4_travel_data['Deal ID'].count()}\")\n",
    "print(f\"Total Units Sold (Estimated): {q4_travel_data['Units Sold'].sum()} units\")\n",
    "print(f\"Total Billings (Estimated): ${q4_travel_data['Billings'].sum()/1e6:.2f} million\")\n",
    "print(f\"Inventory Type Breakdown for Travel deals: \\n{q4_travel_data['Inventory Type'].value_counts()}\")\n",
    "print(\"******************************\")\n",
    "print(f\"Number of deals to go active after start of 4Q13: {q4_travel_data[q4_travel_data['Start Date'] > '2013-09-30']['Deal ID'].count()}\")\n",
    "print(f\"Billings from deals going live after start of 4Q13: {q4_travel_data[q4_travel_data['Start Date'] > '2013-09-30']['Billings'].sum()/1e6:.2f} million\")\n",
    "print(\"******************************\")\n",
    "print(f\"Number of deals to go active before start of 4Q13:{q4_travel_data[q4_travel_data['Start Date'] < '2013-10-01']['Deal ID'].count()}\")\n",
    "print(f\"Billings from deals going live before start of 4Q13: {q4_travel_data[q4_travel_data['Start Date'] < '2013-10-01']['Billings'].sum()/1e6:.2f} million\")\n",
    "\n"
   ]
  },
  {
   "cell_type": "code",
   "execution_count": null,
   "metadata": {},
   "outputs": [],
   "source": [
    "# Aggregating Travel Data by Deal Start Date. Easier when it comes to plotting.\n",
    "q4_travel_agg = q4_travel_data.groupby(['Start Date']).sum()"
   ]
  },
  {
   "cell_type": "code",
   "execution_count": null,
   "metadata": {},
   "outputs": [],
   "source": [
    "q4_travel_agg.reset_index(inplace=True)"
   ]
  },
  {
   "cell_type": "code",
   "execution_count": null,
   "metadata": {},
   "outputs": [],
   "source": [
    "# Converting the billings numbers to millions since the y-axis would be absurd. Also an eyesore.\n",
    "q4_travel_agg['Billings'] = q4_travel_agg['Billings']/1e6"
   ]
  },
  {
   "cell_type": "code",
   "execution_count": null,
   "metadata": {},
   "outputs": [],
   "source": [
    "# Setting up the plot\n",
    "sns.set(rc = {'figure.figsize':(15,8)})\n",
    "plot_1 = sns.lineplot(data=q4_travel_agg[q4_travel_agg['Start Date'] > '2013-09-30'], x=\"Start Date\", y=\"Billings\", marker='o')\n",
    "plot_1.set_xlabel(\"Deal Go-Live Date\", fontsize = 15)\n",
    "plot_1.set_ylabel(\"Billings in millions of dollars\", fontsize=15)\n",
    "plot_1.set_title(\"Groupon: Estimated Billings in Millions - Travel, 4Q13\", fontsize=18)"
   ]
  },
  {
   "cell_type": "markdown",
   "metadata": {},
   "source": [
    "## Computing Local Segment 4Q13 Metrics"
   ]
  },
  {
   "cell_type": "code",
   "execution_count": null,
   "metadata": {},
   "outputs": [],
   "source": [
    "# Previewing Local Data\n",
    "q4_local_data.head(5)"
   ]
  },
  {
   "cell_type": "code",
   "execution_count": null,
   "metadata": {},
   "outputs": [],
   "source": [
    "print(\"So far, missing values in local data (excluding the 10/20-10/30 outage)\")\n",
    "q4_local_data.isnull().sum()"
   ]
  },
  {
   "cell_type": "code",
   "execution_count": null,
   "metadata": {},
   "outputs": [],
   "source": [
    "# resetting index and cleaning up the residual index column\n",
    "q4_local_data.reset_index(inplace=True, drop=True)"
   ]
  },
  {
   "cell_type": "code",
   "execution_count": null,
   "metadata": {},
   "outputs": [],
   "source": [
    "q4_local_data[q4_local_data['Start Date'] > '2013-09-30']['Deal ID'].count()"
   ]
  },
  {
   "cell_type": "code",
   "execution_count": null,
   "metadata": {},
   "outputs": [],
   "source": [
    "print(\"Summary of Local Deals active in 4Q13 --- PRE MISSING DATA IMPUTATION\")\n",
    "print(f\"Total Deals active in 4Q13: {q4_local_data['Deal ID'].count()}\")\n",
    "print(f\"Total Units Sold (Estimated): {q4_local_data['Units Sold'].sum()} units\")\n",
    "print(f\"Total Billings (Estimated): ${q4_local_data['Billings'].sum()/1e6:.2f} million\")\n",
    "print(f\"Inventory Type Breakdown for Local deals: \\n{q4_local_data['Inventory Type'].value_counts()}\")\n",
    "print(\"******************************\")\n",
    "print(f\"Number of deals to go active after start of 4Q13: {q4_local_data[q4_local_data['Start Date'] > '2013-09-30']['Deal ID'].count()}\")\n",
    "print(f\"Billings from deals going live after start of 4Q13: {q4_local_data[q4_local_data['Start Date'] > '2013-09-30']['Billings'].sum()/1e6:.2f} million\")\n",
    "print(\"******************************\")\n",
    "print(f\"Number of deals to go active before start of 4Q13:{q4_local_data[q4_local_data['Start Date'] < '2013-10-01']['Deal ID'].count()}\")\n",
    "print(f\"Billings from deals going live before start of 4Q13: {q4_local_data[q4_local_data['Start Date'] < '2013-10-01']['Billings'].sum()/1e6:.2f} million\")"
   ]
  },
  {
   "cell_type": "code",
   "execution_count": null,
   "metadata": {},
   "outputs": [],
   "source": [
    "# Aggregating local data by the Deal Start Date for ease in plotting\n",
    "q4_local_agg = q4_local_data.groupby(['Start Date']).sum()"
   ]
  },
  {
   "cell_type": "code",
   "execution_count": null,
   "metadata": {},
   "outputs": [],
   "source": [
    "# Converting the billings numbers into millions for ease in plotting\n",
    "q4_local_agg['Billings'] = q4_local_agg['Billings']/1e6"
   ]
  },
  {
   "cell_type": "code",
   "execution_count": null,
   "metadata": {},
   "outputs": [],
   "source": [
    "# resetting index post-aggregation by deal start date\n",
    "q4_local_agg.reset_index(inplace=True)"
   ]
  },
  {
   "cell_type": "code",
   "execution_count": null,
   "metadata": {},
   "outputs": [],
   "source": [
    "# Made a separate data frame with the same fields for the outage time period (10/20-10/30)\n",
    "missing_local_data = pd.read_csv('missing_locals.csv')"
   ]
  },
  {
   "cell_type": "code",
   "execution_count": null,
   "metadata": {},
   "outputs": [],
   "source": [
    "# previewing the missing local data\n",
    "missing_local_data"
   ]
  },
  {
   "cell_type": "code",
   "execution_count": null,
   "metadata": {},
   "outputs": [],
   "source": [
    "# checking for data types\n",
    "missing_local_data.dtypes"
   ]
  },
  {
   "cell_type": "code",
   "execution_count": null,
   "metadata": {},
   "outputs": [],
   "source": [
    "# Converting the data type to datetime from string\n",
    "missing_local_data['Start Date'] = pd.to_datetime(missing_local_data['Start Date'])"
   ]
  },
  {
   "cell_type": "code",
   "execution_count": null,
   "metadata": {},
   "outputs": [],
   "source": [
    "# Concatenating the missing values to the aggregated local data, sorting it in ascending order of deal start date and then resetting\n",
    "# index\n",
    "q4_local_agg = pd.concat([q4_local_agg, missing_local_data])"
   ]
  },
  {
   "cell_type": "code",
   "execution_count": null,
   "metadata": {},
   "outputs": [],
   "source": [
    "q4_local_agg.sort_values('Start Date', inplace=True)"
   ]
  },
  {
   "cell_type": "code",
   "execution_count": null,
   "metadata": {},
   "outputs": [],
   "source": [
    "q4_local_agg.reset_index(inplace=True, drop=True)"
   ]
  },
  {
   "cell_type": "code",
   "execution_count": null,
   "metadata": {},
   "outputs": [],
   "source": [
    "# Previewing Local 4Q13 data for deals that started after the beginning of the 4th quarter\n",
    "q4_local_agg[q4_local_agg['Start Date'] > '2013-09-30']"
   ]
  },
  {
   "cell_type": "code",
   "execution_count": null,
   "metadata": {},
   "outputs": [],
   "source": [
    "# Plotting all local segment data available\n",
    "# Plotting what the estimated billings would look like, with the missing values not imputed.\n",
    "# The straight line between 2013-10-15 and 2013-11-01 clearly shows this gap in information.\n",
    "\n",
    "sns.set(rc = {'figure.figsize':(15,8)})\n",
    "plot_local = sns.lineplot(data=q4_local_agg, x=\"Start Date\", y=\"Billings\", marker='o')\n",
    "plot_local.set_xlabel(\"Deal Go-Live Date\", fontsize = 15)\n",
    "plot_local.set_ylabel(\"Billings in million dollars\", fontsize=15)\n",
    "plot_local.set_title(\"Groupon: Estimated Billings in Millions Pre-Impute - Local, 4Q13\", fontsize=18)"
   ]
  },
  {
   "cell_type": "code",
   "execution_count": null,
   "metadata": {
    "scrolled": true
   },
   "outputs": [],
   "source": [
    "# Plotting what the estimated billings would look like, with the missing values not imputed.\n",
    "# The straight line between 2013-10-15 and 2013-11-01 clearly shows this gap in information.\n",
    "\n",
    "sns.set(rc = {'figure.figsize':(15,8)})\n",
    "plot_local = sns.lineplot(data=q4_local_agg[q4_local_agg['Start Date'] > '2013-09-30'], x=\"Start Date\", y=\"Billings\", marker='o')\n",
    "plot_local.set_xlabel(\"Deal Go-Live Date\", fontsize = 15)\n",
    "plot_local.set_ylabel(\"Billings in million dollars\", fontsize=15)\n",
    "plot_local.set_title(\"Groupon: Estimated Billings in Millions Pre-Impute - Local, 4Q13\", fontsize=18)"
   ]
  },
  {
   "cell_type": "markdown",
   "metadata": {},
   "source": [
    "## Imputing Local Segment Missing Data: Billings and Units Sold"
   ]
  },
  {
   "cell_type": "code",
   "execution_count": null,
   "metadata": {},
   "outputs": [],
   "source": [
    "# Making a copy of the data frame to safely work on imputing the missing values\n",
    "imputing_frame = q4_local_agg.copy()"
   ]
  },
  {
   "cell_type": "code",
   "execution_count": null,
   "metadata": {},
   "outputs": [],
   "source": [
    "# Adding two columns to ascertain the day of the week for a given deal's start date \n",
    "# The Is Weekend? column will have a value of WE for weekends and WD for weekdays\n",
    "imputing_frame['Day of Week'] = imputing_frame['Start Date'].dt.weekday"
   ]
  },
  {
   "cell_type": "code",
   "execution_count": null,
   "metadata": {},
   "outputs": [],
   "source": [
    "imputing_frame[\"Is Weekend?\"] = imputing_frame['Day of Week'] >= 5\n"
   ]
  },
  {
   "cell_type": "code",
   "execution_count": null,
   "metadata": {},
   "outputs": [],
   "source": [
    "imputing_frame.loc[imputing_frame[\"Is Weekend?\"] == True, \"Is Weekend?\"] = \"WE\"\n",
    "imputing_frame.loc[imputing_frame[\"Is Weekend?\"] == False, \"Is Weekend?\"] = \"WD\"\n",
    "\n"
   ]
  },
  {
   "cell_type": "code",
   "execution_count": null,
   "metadata": {},
   "outputs": [],
   "source": [
    "# The breakup of the missing data seems to be 8 weekdays and 3 weekend days\n",
    "# Performing Median Imputation\n",
    "# Calculating the median value for units sold and billings for 8 weekdays (before and after the outage)\n",
    "# Then imputing the missing values using these median values calculated (using conditional logic)\n",
    "weekday_units_fill = imputing_frame.loc[np.r_[437:440, 453:455, 457:459], :]['Units Sold'].median()\n",
    "weekday_billings_fill = imputing_frame.loc[np.r_[437:440, 453:455, 457:459], :]['Billings'].median()"
   ]
  },
  {
   "cell_type": "code",
   "execution_count": null,
   "metadata": {},
   "outputs": [],
   "source": [
    "imputing_frame.loc[(imputing_frame['Units Sold'].isna()) & (imputing_frame['Is Weekend?'] == 'WD'), 'Units Sold'] = weekday_units_fill"
   ]
  },
  {
   "cell_type": "code",
   "execution_count": null,
   "metadata": {},
   "outputs": [],
   "source": [
    "imputing_frame.loc[(imputing_frame['Billings'].isna()) & (imputing_frame['Is Weekend?'] == 'WD'), 'Billings'] = weekday_billings_fill"
   ]
  },
  {
   "cell_type": "code",
   "execution_count": null,
   "metadata": {},
   "outputs": [],
   "source": [
    "imputing_frame"
   ]
  },
  {
   "cell_type": "code",
   "execution_count": null,
   "metadata": {},
   "outputs": [],
   "source": [
    "weekday_units_fill, weekday_billings_fill"
   ]
  },
  {
   "cell_type": "code",
   "execution_count": null,
   "metadata": {},
   "outputs": [],
   "source": [
    "# Repeating the above imputation for weekend days \n",
    "weekend_units_fill = imputing_frame.loc[np.r_[434:436, 441, 455:457], :]['Units Sold'].median()\n",
    "weekend_billings_fill = imputing_frame.loc[np.r_[434:436, 441, 455:457], :]['Billings'].median()"
   ]
  },
  {
   "cell_type": "code",
   "execution_count": null,
   "metadata": {},
   "outputs": [],
   "source": [
    "imputing_frame.loc[(imputing_frame['Units Sold'].isna()) & (imputing_frame['Is Weekend?'] == 'WE'), 'Units Sold'] = weekend_units_fill\n",
    "imputing_frame.loc[(imputing_frame['Billings'].isna()) & (imputing_frame['Is Weekend?'] == 'WE'), 'Billings'] = weekend_billings_fill"
   ]
  },
  {
   "cell_type": "code",
   "execution_count": null,
   "metadata": {},
   "outputs": [],
   "source": [
    "# Plotting the estimated billings for the Local Segment, after imputing missing values\n",
    "sns.set(rc = {'figure.figsize':(15,8)})\n",
    "plot_local = sns.lineplot(data=imputing_frame[imputing_frame['Start Date'] > '2013-09-30'], x=\"Start Date\", y=\"Billings\", marker='o')\n",
    "plot_local.set_xlabel(\"Deal Go-Live Date\", fontsize = 15)\n",
    "plot_local.set_ylabel(\"Billings in million dollars\", fontsize=15)\n",
    "plot_local.set_title(\"Groupon: Estimated Billings in Millions Post-Impute - Local, 4Q13\", fontsize=18)"
   ]
  },
  {
   "cell_type": "code",
   "execution_count": null,
   "metadata": {},
   "outputs": [],
   "source": [
    "# Calculating the total estimated billings for the Local Segment in 4Q13\n",
    "total_q4_local_billings_millions = imputing_frame['Billings'].sum()"
   ]
  },
  {
   "cell_type": "code",
   "execution_count": null,
   "metadata": {},
   "outputs": [],
   "source": [
    "# Calculating the total estimated units sold for the Local Segment in 4Q13\n",
    "total_q4_local_units_sold = imputing_frame['Units Sold'].sum()"
   ]
  },
  {
   "cell_type": "markdown",
   "metadata": {},
   "source": [
    "## Imputing New Deals Started for Local Segment during Outage"
   ]
  },
  {
   "cell_type": "code",
   "execution_count": null,
   "metadata": {},
   "outputs": [],
   "source": [
    "imputing_deals = q4_local_data.groupby(['Start Date']).count()"
   ]
  },
  {
   "cell_type": "code",
   "execution_count": null,
   "metadata": {
    "scrolled": true
   },
   "outputs": [],
   "source": [
    "imputing_deals.head(4)"
   ]
  },
  {
   "cell_type": "code",
   "execution_count": null,
   "metadata": {},
   "outputs": [],
   "source": [
    "# Dropping unecessary columns\n",
    "imputing_deals.drop(['Units Sold', 'Billings', 'Deal URL', 'Segment', 'Inventory Type'], axis=1, inplace=True)"
   ]
  },
  {
   "cell_type": "code",
   "execution_count": null,
   "metadata": {},
   "outputs": [],
   "source": [
    "imputing_deals.reset_index(inplace=True)"
   ]
  },
  {
   "cell_type": "code",
   "execution_count": null,
   "metadata": {},
   "outputs": [],
   "source": [
    "imputing_deals"
   ]
  },
  {
   "cell_type": "code",
   "execution_count": null,
   "metadata": {},
   "outputs": [],
   "source": [
    "sns.set(rc = {'figure.figsize':(15,8)})\n",
    "plot_deals = sns.lineplot(data=imputing_deals[imputing_deals['Start Date'] > '2013-09-30'], x ='Start Date', y='Deal ID', marker='o')\n",
    "plot_local.set_xlabel(\"Deal Go-Live Date\", fontsize = 15)\n",
    "plot_local.set_ylabel(\"New Deals Launched\", fontsize=15)\n",
    "plot_local.set_title(\"Groupon: New Deals Launched - Local, 4Q13\", fontsize=18)"
   ]
  },
  {
   "cell_type": "code",
   "execution_count": null,
   "metadata": {},
   "outputs": [],
   "source": [
    "# manipulating same missing data template used to impute billings and units sold\n",
    "missing_deals = missing_local_data.copy()"
   ]
  },
  {
   "cell_type": "code",
   "execution_count": null,
   "metadata": {},
   "outputs": [],
   "source": [
    "missing_deals.drop([ 'Billings'], axis=1, inplace=True)"
   ]
  },
  {
   "cell_type": "code",
   "execution_count": null,
   "metadata": {},
   "outputs": [],
   "source": [
    "missing_deals.rename(columns={'Units Sold': 'Deal ID'}, inplace=True)"
   ]
  },
  {
   "cell_type": "code",
   "execution_count": null,
   "metadata": {},
   "outputs": [],
   "source": [
    "missing_deals"
   ]
  },
  {
   "cell_type": "code",
   "execution_count": null,
   "metadata": {},
   "outputs": [],
   "source": [
    "imputing_deals = pd.concat([imputing_deals, missing_deals])"
   ]
  },
  {
   "cell_type": "code",
   "execution_count": null,
   "metadata": {},
   "outputs": [],
   "source": [
    "imputing_deals.sort_values('Start Date', inplace=True)"
   ]
  },
  {
   "cell_type": "code",
   "execution_count": null,
   "metadata": {},
   "outputs": [],
   "source": [
    "imputing_deals.reset_index(inplace=True, drop=True)"
   ]
  },
  {
   "cell_type": "code",
   "execution_count": null,
   "metadata": {},
   "outputs": [],
   "source": [
    "imputing_deals[imputing_deals['Start Date'] > '2013-09-30']"
   ]
  },
  {
   "cell_type": "code",
   "execution_count": null,
   "metadata": {},
   "outputs": [],
   "source": [
    "# Adding two columns to ascertain the day of the week for a given deal's start date \n",
    "# The Is Weekend? column will have a value of WE for weekends and WD for weekdays\n",
    "imputing_deals['Day of Week'] = imputing_deals['Start Date'].dt.weekday"
   ]
  },
  {
   "cell_type": "code",
   "execution_count": null,
   "metadata": {},
   "outputs": [],
   "source": [
    "imputing_deals[\"Is Weekend?\"] = imputing_deals['Day of Week'] >= 5"
   ]
  },
  {
   "cell_type": "code",
   "execution_count": null,
   "metadata": {},
   "outputs": [],
   "source": [
    "imputing_deals.loc[imputing_deals[\"Is Weekend?\"] == True, \"Is Weekend?\"] = \"WE\"\n",
    "imputing_deals.loc[imputing_deals[\"Is Weekend?\"] == False, \"Is Weekend?\"] = \"WD\""
   ]
  },
  {
   "cell_type": "code",
   "execution_count": null,
   "metadata": {},
   "outputs": [],
   "source": [
    "# The breakup of the missing data seems to be 8 weekdays and 3 weekend days\n",
    "# Performing Median Imputation\n",
    "# Calculating the median value for units sold and billings for 8 weekdays (before and after the outage)\n",
    "# Then imputing the missing values using these median values calculated (using conditional logic)\n",
    "weekday_deals_fill = imputing_deals.loc[np.r_[437:440, 453:455, 457:459], :]['Deal ID'].median()"
   ]
  },
  {
   "cell_type": "code",
   "execution_count": null,
   "metadata": {},
   "outputs": [],
   "source": [
    "imputing_deals.loc[(imputing_deals['Deal ID'].isna()) & (imputing_deals['Is Weekend?'] == 'WD'), 'Deal ID'] = weekday_deals_fill"
   ]
  },
  {
   "cell_type": "code",
   "execution_count": null,
   "metadata": {},
   "outputs": [],
   "source": [
    "# Repeating the above imputation for weekend days \n",
    "weekend_deals_fill = imputing_deals.loc[np.r_[434:436, 441, 455:457], :]['Deal ID'].median()"
   ]
  },
  {
   "cell_type": "code",
   "execution_count": null,
   "metadata": {},
   "outputs": [],
   "source": [
    "imputing_deals.loc[(imputing_deals['Deal ID'].isna()) & (imputing_deals['Is Weekend?'] == 'WE'), 'Deal ID'] = weekend_deals_fill"
   ]
  },
  {
   "cell_type": "code",
   "execution_count": null,
   "metadata": {},
   "outputs": [],
   "source": [
    "total_active_local_deals_q4 = imputing_deals[imputing_deals['Start Date'] > '2013-09-30']['Deal ID'].sum()"
   ]
  },
  {
   "cell_type": "code",
   "execution_count": null,
   "metadata": {},
   "outputs": [],
   "source": [
    "sns.set(rc = {'figure.figsize':(15,8)})\n",
    "plot_deals = sns.lineplot(data=imputing_deals[imputing_deals['Start Date'] > '2013-09-30'], x ='Start Date', y='Deal ID', marker='o')\n",
    "plot_deals.set_xlabel(\"Deal Go-Live Date\", fontsize = 15)\n",
    "plot_deals.set_ylabel(\"New Deals Launched\", fontsize=15)\n",
    "plot_deals.set_title(\"Groupon: New Deals Launched - Local Post-Impute, 4Q13\", fontsize=18)"
   ]
  },
  {
   "cell_type": "code",
   "execution_count": null,
   "metadata": {
    "scrolled": true
   },
   "outputs": [],
   "source": [
    "print(\"Summary of Local Deals active in 4Q13\")\n",
    "print(f\"Total Units Sold (Estimated): {total_q4_local_units_sold:.2f} units\")\n",
    "print(f\"Total Billings (Estimated): ${total_q4_local_billings_millions:.2f} million\")\n",
    "print(\"******************************\")\n",
    "print(f\"New deals launched in Q4: {total_active_local_deals_q4}\") # 46980 is the initial number of active deals as seen in the pre-imputation summary for the local segment above"
   ]
  },
  {
   "cell_type": "markdown",
   "metadata": {},
   "source": [
    "## Summary: Calculating Overall 4Q13 Estimates"
   ]
  },
  {
   "cell_type": "code",
   "execution_count": null,
   "metadata": {},
   "outputs": [],
   "source": [
    "total_q4_travel_units_sold = q4_travel_data['Units Sold'].sum()\n",
    "total_q4_travel_billings_millions = q4_travel_data['Billings'].sum()/1e6\n",
    "\n",
    "total_q4_goods_units_sold = q4_goods_data['Units Sold'].sum()\n",
    "total_q4_goods_billings_millions = q4_goods_data['Billings'].sum()/1e6"
   ]
  },
  {
   "cell_type": "code",
   "execution_count": null,
   "metadata": {},
   "outputs": [],
   "source": [
    "total_units_sold = total_q4_travel_units_sold + total_q4_goods_units_sold + total_q4_local_units_sold\n",
    "total_billings_millions = total_q4_travel_billings_millions + total_q4_goods_billings_millions + total_q4_local_billings_millions"
   ]
  },
  {
   "cell_type": "code",
   "execution_count": null,
   "metadata": {},
   "outputs": [],
   "source": [
    "new_deals_goods_q4 = q4_goods_data[q4_goods_data['Start Date'] > '2013-09-30']['Deal ID'].count()\n",
    "new_deals_travel_q4 = q4_travel_data[q4_travel_data['Start Date'] > '2013-09-30']['Deal ID'].count()\n",
    "new_deals_local_q4 = total_active_local_deals_q4 "
   ]
  },
  {
   "cell_type": "code",
   "execution_count": null,
   "metadata": {},
   "outputs": [],
   "source": [
    "total_new_deals = new_deals_goods_q4 + new_deals_travel_q4 + new_deals_local_q4"
   ]
  },
  {
   "cell_type": "code",
   "execution_count": null,
   "metadata": {
    "scrolled": true
   },
   "outputs": [],
   "source": [
    "print(\"Groupon 4Q13 Estimates Summary\")\n",
    "print(f\"Total Units Sold (Estimated): {total_units_sold/1e6:.2f} million units\")\n",
    "print(f\"Total Billings (Estimated): ${total_billings_millions:.2f} million\")\n",
    "print(f\"Total New Deals Launched (Estimated): {total_new_deals}\")"
   ]
  },
  {
   "cell_type": "code",
   "execution_count": null,
   "metadata": {},
   "outputs": [],
   "source": [
    "total_units_sold"
   ]
  },
  {
   "cell_type": "markdown",
   "metadata": {},
   "source": [
    "## Working with Yipit's Historic Estimates"
   ]
  },
  {
   "cell_type": "code",
   "execution_count": null,
   "metadata": {},
   "outputs": [],
   "source": [
    "# Reading in provided historic data\n",
    "historic_data = pd.read_csv('yipit_historic_data.csv')"
   ]
  },
  {
   "cell_type": "code",
   "execution_count": null,
   "metadata": {},
   "outputs": [],
   "source": [
    "# Previewing the historic data table\n",
    "historic_data.head(10)"
   ]
  },
  {
   "cell_type": "code",
   "execution_count": null,
   "metadata": {},
   "outputs": [],
   "source": [
    "# Checking for data types\n",
    "historic_data.dtypes"
   ]
  },
  {
   "cell_type": "code",
   "execution_count": null,
   "metadata": {},
   "outputs": [],
   "source": [
    "# Resetting data types since units_sold and new_deals_started should be float and int variables\n",
    "historic_data['units_sold'] = historic_data['units_sold'].str.replace(',','').astype(np.float64)\n",
    "historic_data['new_deals_started'] = historic_data['new_deals_started'].str.replace(',','').astype(np.int64)"
   ]
  },
  {
   "cell_type": "code",
   "execution_count": null,
   "metadata": {},
   "outputs": [],
   "source": [
    "historic_data.tail(10)"
   ]
  },
  {
   "cell_type": "code",
   "execution_count": null,
   "metadata": {},
   "outputs": [],
   "source": [
    "historic_data = historic_data[historic_data['quarter'] != '4Q13'] # Removing 4Q13 data since it's rather empty"
   ]
  },
  {
   "cell_type": "code",
   "execution_count": null,
   "metadata": {},
   "outputs": [],
   "source": [
    "hist_quarter_aggregation = historic_data.groupby(['quarter']).sum() # Grouping by quarter to get aggregates"
   ]
  },
  {
   "cell_type": "code",
   "execution_count": null,
   "metadata": {},
   "outputs": [],
   "source": [
    " hist_quarter_aggregation = hist_quarter_aggregation.reindex(['3Q12', '4Q12', '1Q13', '2Q13', '3Q13'])"
   ]
  },
  {
   "cell_type": "code",
   "execution_count": null,
   "metadata": {},
   "outputs": [],
   "source": [
    "hist_quarter_aggregation.loc['4Q13'] =[total_billings_millions, total_units_sold, total_new_deals]"
   ]
  },
  {
   "cell_type": "code",
   "execution_count": null,
   "metadata": {},
   "outputs": [],
   "source": [
    "hist_quarter_aggregation['billings_pct_change'] =  hist_quarter_aggregation['billings_million'].pct_change() * 100\n",
    "hist_quarter_aggregation['units_sold_pct_change'] =  hist_quarter_aggregation['units_sold'].pct_change() * 100\n",
    "hist_quarter_aggregation['new_deals_pct_change'] =  hist_quarter_aggregation['new_deals_started'].pct_change() * 100"
   ]
  },
  {
   "cell_type": "code",
   "execution_count": null,
   "metadata": {},
   "outputs": [],
   "source": [
    "hist_quarter_aggregation"
   ]
  },
  {
   "cell_type": "code",
   "execution_count": null,
   "metadata": {},
   "outputs": [],
   "source": [
    "hist_segment_agg = historic_data.groupby(['segment','quarter']).sum()"
   ]
  },
  {
   "cell_type": "code",
   "execution_count": null,
   "metadata": {},
   "outputs": [],
   "source": [
    "hist_segment_agg.to_csv('summary.csv')"
   ]
  },
  {
   "cell_type": "code",
   "execution_count": null,
   "metadata": {},
   "outputs": [],
   "source": [
    "final_summary = pd.read_csv('final_sum.csv') # reuploading above sheet with 4Q13 data [DONE BECAUSE OF TIME CRUNCH]"
   ]
  },
  {
   "cell_type": "code",
   "execution_count": null,
   "metadata": {},
   "outputs": [],
   "source": [
    "final_agg = final_summary.groupby(['segment','quarter']).sum()"
   ]
  },
  {
   "cell_type": "code",
   "execution_count": null,
   "metadata": {},
   "outputs": [],
   "source": [
    "final_agg = final_agg.reindex(['3Q12', '4Q12', '1Q13', '2Q13', '3Q13', '4Q13'], level='quarter')"
   ]
  },
  {
   "cell_type": "code",
   "execution_count": null,
   "metadata": {},
   "outputs": [],
   "source": [
    "final_agg"
   ]
  },
  {
   "cell_type": "code",
   "execution_count": null,
   "metadata": {},
   "outputs": [],
   "source": [
    "sns.set(rc = {'figure.figsize':(20,20)})\n",
    "fig, axes = plt.subplots(3,1)\n",
    "plot_1 = sns.lineplot(data=final_agg, x=\"quarter\", y=\"billings_million\", hue=\"segment\", marker='o', ax=axes[0])\n",
    "plot_2 = sns.lineplot(data=final_agg, x=\"quarter\", y=\"units_sold\", hue=\"segment\", marker='o', ax=axes[1])\n",
    "plot_3 = sns.lineplot(data=final_agg, x=\"quarter\", y=\"new_deals_started\", hue=\"segment\", marker='o', ax=axes[2])\n",
    "\n",
    "plot_1.set_xlabel(\"Quarter\", fontsize = 15)\n",
    "plot_1.set_ylabel(\"Billings in millions of dollars\", fontsize=15)\n",
    "plot_1.set_title(\"Groupon: Estimated Billings by Segment, 3Q12-4Q13\", fontsize=18)\n",
    "plot_1.legend(loc=2, bbox_to_anchor=(1,1))\n",
    "\n",
    "plot_2.set_xlabel(\"Quarter\", fontsize = 15)\n",
    "plot_2.set_ylabel(\"Units Sold in Millions\", fontsize=15)\n",
    "plot_2.set_title(\"Groupon: Estimated Units Sold by Segment, 3Q12-4Q13\", fontsize=18)\n",
    "plot_2.legend(loc=2, bbox_to_anchor=(1,1))\n",
    "\n",
    "plot_3.set_xlabel(\"Quarter\", fontsize = 15)\n",
    "plot_3.set_ylabel(\"New Deals Started\", fontsize=15)\n",
    "plot_3.set_title(\"Groupon: New Deals Started by Segment, 3Q12-4Q13\", fontsize=18)\n",
    "plot_3.legend(loc=2, bbox_to_anchor=(1,1))"
   ]
  },
  {
   "cell_type": "code",
   "execution_count": null,
   "metadata": {},
   "outputs": [],
   "source": []
  }
 ],
 "metadata": {
  "kernelspec": {
   "display_name": "Python 3 (ipykernel)",
   "language": "python",
   "name": "python3"
  },
  "language_info": {
   "codemirror_mode": {
    "name": "ipython",
    "version": 3
   },
   "file_extension": ".py",
   "mimetype": "text/x-python",
   "name": "python",
   "nbconvert_exporter": "python",
   "pygments_lexer": "ipython3",
   "version": "3.9.6"
  }
 },
 "nbformat": 4,
 "nbformat_minor": 4
}
